{
 "cells": [
  {
   "cell_type": "code",
   "execution_count": 1,
   "metadata": {},
   "outputs": [],
   "source": [
    "# import os\n",
    "\n",
    "# os.chdir('C:/Users/LUY1/Desktop/customer churn data/data')\n",
    "\n",
    "# print(os.getcwd())"
   ]
  },
  {
   "cell_type": "code",
   "execution_count": 2,
   "metadata": {},
   "outputs": [],
   "source": [
    "import pandas as pd"
   ]
  },
  {
   "cell_type": "code",
   "execution_count": 2,
   "metadata": {},
   "outputs": [],
   "source": [
    "# df = pd.read_pickle('df_1_cleaned.pkl')\n",
    "\n",
    "# df"
   ]
  },
  {
   "cell_type": "code",
   "execution_count": 3,
   "metadata": {},
   "outputs": [],
   "source": [
    "# df.info()"
   ]
  },
  {
   "cell_type": "code",
   "execution_count": 5,
   "metadata": {},
   "outputs": [],
   "source": [
    "# data visualization"
   ]
  },
  {
   "cell_type": "code",
   "execution_count": 6,
   "metadata": {},
   "outputs": [],
   "source": [
    "import matplotlib.pyplot as plt\n",
    "import seaborn as sns\n",
    "\n",
    "%matplotlib inline"
   ]
  },
  {
   "cell_type": "code",
   "execution_count": 4,
   "metadata": {},
   "outputs": [],
   "source": [
    "# RENEWAL_MONTH\n",
    "\n",
    "# p = sns.countplot(x = 'RENEWAL_MONTH', data = df, hue = 'RENEWED', palette = 'deep')\n",
    "# plt.show()"
   ]
  },
  {
   "cell_type": "markdown",
   "metadata": {},
   "source": [
    "It seems like that there is no significant differnce between 12 months for customers churn rate\n",
    "Exclude 'RENEWAL_MONTH' for the dataset for modeling (? need to decide after coorelation and variable importance)"
   ]
  },
  {
   "cell_type": "code",
   "execution_count": 9,
   "metadata": {},
   "outputs": [],
   "source": [
    "#  PYMT_FRQ_ACTL_B2"
   ]
  },
  {
   "cell_type": "code",
   "execution_count": 5,
   "metadata": {},
   "outputs": [],
   "source": [
    "# p = sns.countplot(x = 'PYMT_FRQ_ACTL_B2', data = df, hue = 'RENEWED', palette = 'deep')\n",
    "# plt.show()"
   ]
  },
  {
   "cell_type": "markdown",
   "metadata": {},
   "source": [
    "It seems like there is a significant difference between 4 levels of PYMT_FRQ_ACTL_B2 for customer churn rate"
   ]
  },
  {
   "cell_type": "code",
   "execution_count": 12,
   "metadata": {},
   "outputs": [],
   "source": [
    "# POL_DURATION"
   ]
  },
  {
   "cell_type": "code",
   "execution_count": 6,
   "metadata": {},
   "outputs": [],
   "source": [
    "# ax = sns.violinplot(x = 'RENEWED', y = 'POL_DURATION', data = df)\n",
    "# plt.show()"
   ]
  },
  {
   "cell_type": "code",
   "execution_count": 14,
   "metadata": {},
   "outputs": [],
   "source": [
    "# CUSTOMER_SEGMENT"
   ]
  },
  {
   "cell_type": "code",
   "execution_count": 7,
   "metadata": {},
   "outputs": [],
   "source": [
    "# p = sns.countplot(x = 'CUSTOMER_SEGMENT', data = df, hue = 'RENEWED', palette = 'deep')\n",
    "# plt.xticks(rotation = 45)\n",
    "# plt.show()"
   ]
  },
  {
   "cell_type": "code",
   "execution_count": 18,
   "metadata": {},
   "outputs": [],
   "source": [
    "# COMBINED_COVRE, BUILDINGS_COVER, CONTENTS_COVER"
   ]
  },
  {
   "cell_type": "code",
   "execution_count": 8,
   "metadata": {},
   "outputs": [],
   "source": [
    "# df.loc[:,['COMBINED_COVER', 'BUILDINGS_COVER', 'CONTENTS_COVER', 'RENEWED']].head()"
   ]
  },
  {
   "cell_type": "code",
   "execution_count": 25,
   "metadata": {},
   "outputs": [],
   "source": [
    "df_cover = df.loc[:, ['COMBINED_COVER', 'BUILDINGS_COVER', 'CONTENTS_COVER', 'RENEWED']]"
   ]
  },
  {
   "cell_type": "code",
   "execution_count": 9,
   "metadata": {},
   "outputs": [],
   "source": [
    "# reverse one-hot-encoding\n",
    "import numpy as np\n",
    "\n",
    "#np.argmax(df_cover.loc[:,['COMBINED_COVER', 'BUILDINGS_COVER', 'CONTENTS_COVER']], axis = 2)\n",
    "# df_cover.loc[:, ['COMBINED_COVER', 'BUILDINGS_COVER', 'CONTENTS_COVER']].idxmax(axis = 1).head()"
   ]
  },
  {
   "cell_type": "code",
   "execution_count": 10,
   "metadata": {},
   "outputs": [],
   "source": [
    "# df_cover.loc[:,['COMBINED_COVER', 'BUILDINGS_COVER', 'CONTENTS_COVER']].head()"
   ]
  },
  {
   "cell_type": "code",
   "execution_count": 11,
   "metadata": {},
   "outputs": [],
   "source": [
    "# df_cover['COVER_TYPE'] = df_cover.loc[:, ['COMBINED_COVER', 'BUILDINGS_COVER', 'CONTENTS_COVER']].idxmax(axis = 1)\n",
    "# df_cover.head()"
   ]
  },
  {
   "cell_type": "code",
   "execution_count": 12,
   "metadata": {},
   "outputs": [],
   "source": [
    "# p = sns.countplot(x = 'COVER_TYPE', data = df_cover, hue = 'RENEWED',  palette = 'deep')\n",
    "# plt.show()"
   ]
  },
  {
   "cell_type": "markdown",
   "metadata": {},
   "source": [
    "It seems like that COVER_TYPE: CONTENTS_COVER, COMBINED_COVER and BUILDINGS_COVER is a significant feature."
   ]
  },
  {
   "cell_type": "code",
   "execution_count": 37,
   "metadata": {},
   "outputs": [],
   "source": [
    "df_cover.to_pickle('df_cover_type.pkl')"
   ]
  },
  {
   "cell_type": "code",
   "execution_count": 13,
   "metadata": {},
   "outputs": [],
   "source": [
    "# PREM\n",
    "\n",
    "# ax = sns.violinplot(x = 'RENEWED', y = 'PREM', data = df)\n",
    "# plt.show()"
   ]
  },
  {
   "cell_type": "code",
   "execution_count": 14,
   "metadata": {},
   "outputs": [],
   "source": [
    "# PY_PREM\n",
    "\n",
    "# ax = sns.violinplot(x = 'RENEWED', y = 'PY_PREM', data = df)\n",
    "# plt.show()"
   ]
  },
  {
   "cell_type": "code",
   "execution_count": 15,
   "metadata": {},
   "outputs": [],
   "source": [
    "# ACDH_CLAIMS\n",
    "\n",
    "# p = sns.countplot(x = 'ACDH_CLAIMS', data = df, hue = 'RENEWED', palette = 'deep')\n",
    "# plt.legend(loc = 'upper right')\n",
    "# plt.show()"
   ]
  },
  {
   "cell_type": "code",
   "execution_count": 16,
   "metadata": {},
   "outputs": [],
   "source": [
    "# ADEX_CLAIMS\n",
    "\n",
    "# p = sns.countplot(x = 'ADEX_CLAIMS', data = df, hue = 'RENEWED', palette = 'deep')\n",
    "# plt.legend(loc = 'upper right')\n",
    "# plt.show()"
   ]
  },
  {
   "cell_type": "code",
   "execution_count": 17,
   "metadata": {},
   "outputs": [],
   "source": [
    "# EWNF_CLAIMS\n",
    "\n",
    "# p = sns.countplot(x = 'EWNF_CLAIMS', data = df, hue = 'RENEWED', palette = 'deep')\n",
    "# plt.legend(loc = 'upper right')\n",
    "# plt.show()"
   ]
  },
  {
   "cell_type": "code",
   "execution_count": 18,
   "metadata": {},
   "outputs": [],
   "source": [
    "# THFT_CLAIMS\n",
    "\n",
    "# p = sns.countplot(x = 'THFT_CLAIMS', data = df, hue = 'RENEWED', palette = 'deep')\n",
    "# plt.legend(loc = 'upper right')\n",
    "# plt.show()"
   ]
  },
  {
   "cell_type": "code",
   "execution_count": 19,
   "metadata": {},
   "outputs": [],
   "source": [
    "# STMP_CLAIMS\n",
    "\n",
    "# p = sns.countplot(x = 'STMP_CLAIMS', data = df, hue = 'RENEWED', palette = 'deep')\n",
    "# plt.legend(loc = 'upper right')\n",
    "# plt.show()"
   ]
  },
  {
   "cell_type": "code",
   "execution_count": 21,
   "metadata": {},
   "outputs": [],
   "source": [
    "# FIRP  CLAIMS\n",
    "\n",
    "# p = sns.countplot(x = 'FIRP_CLAIMS', data = df, hue = 'RENEWED', palette = 'deep')\n",
    "# plt.legend(loc = 'upper right')\n",
    "# plt.show()"
   ]
  },
  {
   "cell_type": "code",
   "execution_count": 22,
   "metadata": {},
   "outputs": [],
   "source": [
    "# FRZP_CLAIMS\n",
    "\n",
    "# p = sns.countplot(x = 'FRZP_CLAIMS', data = df, hue = 'RENEWED', palette = 'deep')\n",
    "# plt.legend(loc = 'upper right')\n",
    "# plt.show()"
   ]
  },
  {
   "cell_type": "code",
   "execution_count": 23,
   "metadata": {},
   "outputs": [],
   "source": [
    "#OTPP_CLAIMS\n",
    "\n",
    "# p = sns.countplot(x = 'OTPP_CLAIMS', data = df, hue = 'RENEWED', palette = 'deep')\n",
    "# plt.legend(loc = 'upper right')\n",
    "# plt.show()"
   ]
  },
  {
   "cell_type": "code",
   "execution_count": 24,
   "metadata": {},
   "outputs": [],
   "source": [
    "# SUBP_CLAIMS\n",
    "\n",
    "# p = sns.countplot(x = 'SUBP_CLAIMS', data = df, hue = 'RENEWED', palette = 'deep')\n",
    "# plt.legend(loc = 'upper right')\n",
    "# plt.show()"
   ]
  },
  {
   "cell_type": "code",
   "execution_count": 25,
   "metadata": {},
   "outputs": [],
   "source": [
    "# OTHER_CLAIMS\n",
    "\n",
    "# p = sns.countplot(x = 'OTHER_CLAIMS', data = df, hue = 'RENEWED', palette = 'deep')\n",
    "# plt.legend(loc = 'upper right')\n",
    "# plt.show()"
   ]
  },
  {
   "cell_type": "code",
   "execution_count": 26,
   "metadata": {},
   "outputs": [],
   "source": [
    "# TOTAL_CLAIMS\n",
    "\n",
    "# p = sns.countplot(x = 'TOTAL_CLAIMS', data = df, hue = 'RENEWED', palette = 'deep')\n",
    "# plt.legend(loc = 'upper right')\n",
    "# plt.show()"
   ]
  },
  {
   "cell_type": "code",
   "execution_count": 27,
   "metadata": {},
   "outputs": [],
   "source": [
    "# COMP\n",
    "\n",
    "# p = sns.countplot(x = 'COMP', data = df, hue = 'RENEWED', palette = 'deep')\n",
    "# plt.legend(loc = 'upper right')\n",
    "# plt.show()"
   ]
  },
  {
   "cell_type": "code",
   "execution_count": null,
   "metadata": {},
   "outputs": [],
   "source": []
  }
 ],
 "metadata": {
  "kernelspec": {
   "display_name": "Python 3",
   "language": "python",
   "name": "python3"
  },
  "language_info": {
   "codemirror_mode": {
    "name": "ipython",
    "version": 3
   },
   "file_extension": ".py",
   "mimetype": "text/x-python",
   "name": "python",
   "nbconvert_exporter": "python",
   "pygments_lexer": "ipython3",
   "version": "3.6.5"
  }
 },
 "nbformat": 4,
 "nbformat_minor": 2
}
